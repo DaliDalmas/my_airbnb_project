{
 "cells": [
  {
   "cell_type": "code",
   "execution_count": 8,
   "id": "10a2224f-4113-4402-9bbd-17ae4d85c033",
   "metadata": {},
   "outputs": [],
   "source": [
    "import pandas as pd\n",
    "from tqdm import tqdm\n",
    "import re"
   ]
  },
  {
   "cell_type": "code",
   "execution_count": 9,
   "id": "90f8b8d5-a1ce-4b95-8a3c-d4bff6bb4441",
   "metadata": {},
   "outputs": [],
   "source": [
    "def decontractions(phrase: str)->str:\n",
    "    map_list = [\n",
    "        # specific\n",
    "        [\"won't\", \"will not\"],\n",
    "        [\"can't\", \"can not\"],\n",
    "        [\"won’t\", \"will not\"],\n",
    "        [\"can’t\", \"can not\"],\n",
    "        \n",
    "        # general\n",
    "        [\"n't\", \" not\"],\n",
    "        [\"'re\", \" are\"],\n",
    "        [\"'s\", \" is\"],\n",
    "        [\"'d\", \" would\"],\n",
    "        [\"'ll\", \" will\"],\n",
    "        [\"'t\", \" not\"],\n",
    "        [\"'ve\", \" have\"],\n",
    "        [\"'m\", \" am\"],\n",
    "        [\"n’t\", \" not\"],\n",
    "        [\"’re\", \" are\"],\n",
    "        [\"’s\", \" is\"],\n",
    "        [\"’d\", \" would\"],\n",
    "        [\"’ll\", \" will\"],\n",
    "        [\"’t\", \" not\"],\n",
    "        [\"’ve\", \" have\"],\n",
    "        [\"’m\", \" am\"],\n",
    "        [\" w \", \" with \"]\n",
    "    ]\n",
    "    \n",
    "    for amap in map_list:\n",
    "        phrase = re.sub(amap[0], amap[1], phrase)\n",
    "    return phrase"
   ]
  },
  {
   "cell_type": "code",
   "execution_count": 10,
   "id": "66db4c06-1544-4e16-994d-06f4a4b152c7",
   "metadata": {},
   "outputs": [],
   "source": [
    "def preprocess(series_column: pd.Series, remove_stopwords: bool)->list:\n",
    "    preprocessed = []\n",
    "    characters_to_remove = ['\\\\r', '\\\\\"', '\\\\n']\n",
    "    for sentence in tqdm(series_column.values):\n",
    "        sentence=str(sentence)\n",
    "        for char in characters_to_remove:\n",
    "             sentence = sentence.replace(char, ' ')\n",
    "        # Replace characters between words with \"space\"\n",
    "        sentence =  re.sub('[^A-Za-z0-9]+', ' ', sentence)\n",
    "        sentence=decontractions(sentence)\n",
    "        \n",
    "        if remove_stopwords:\n",
    "            sentence = ' '.join(sent for sent in sentence.split() if sent not in stopwords.words())\n",
    "        else:\n",
    "            sentence = ' '.join(sent for sent in sentence.split())\n",
    "        preprocessed.append(sentence.lower().strip())\n",
    "    return preprocessed"
   ]
  },
  {
   "cell_type": "code",
   "execution_count": null,
   "id": "1aaebbb6-dbc9-42af-980b-230902d6ce68",
   "metadata": {},
   "outputs": [],
   "source": [
    "def print_details(df: pd.DataFrame)->None:\n",
    "    print(\"Shape\")\n",
    "    print(\"_______________________________\")\n",
    "    print(df.shape)\n",
    "    print(\"\\ncolumns\")\n",
    "    print(\"_______________________________\")\n",
    "    print(df.columns)\n",
    "    print(\"\\ndata types\")\n",
    "    print(\"_______________________________\")\n",
    "    print(df.dtypes)\n",
    "    print(\"\\nmissing values\")\n",
    "    print(\"_______________________________\")\n",
    "    print(df.isna().sum())\n",
    "    print(\"\\npercent missing values\")\n",
    "    print(\"_______________________________\")\n",
    "    print(df.isna().sum() * 100 / data.shape[0])"
   ]
  },
  {
   "cell_type": "code",
   "execution_count": 1,
   "id": "89007e9b-66ef-49a0-b08f-311fe00e7a2b",
   "metadata": {},
   "outputs": [],
   "source": [
    "def host_identity_verified(text: str)-> bool:\n",
    "    return True if text=='verified' else False"
   ]
  },
  {
   "cell_type": "code",
   "execution_count": null,
   "id": "fabdd33c-ac07-4b56-8f1f-513efab61ee5",
   "metadata": {},
   "outputs": [],
   "source": [
    "def parse_column_names(col_names: list)->list:\n",
    "    renames = {}\n",
    "    for col in col_names:\n",
    "        if len(col.split())>1:\n",
    "            parts = col.split()\n",
    "            renames[col]='_'.join(parts).lower()\n",
    "    return renames"
   ]
  }
 ],
 "metadata": {
  "kernelspec": {
   "display_name": "Python 3 (ipykernel)",
   "language": "python",
   "name": "python3"
  },
  "language_info": {
   "codemirror_mode": {
    "name": "ipython",
    "version": 3
   },
   "file_extension": ".py",
   "mimetype": "text/x-python",
   "name": "python",
   "nbconvert_exporter": "python",
   "pygments_lexer": "ipython3",
   "version": "3.9.10"
  }
 },
 "nbformat": 4,
 "nbformat_minor": 5
}
