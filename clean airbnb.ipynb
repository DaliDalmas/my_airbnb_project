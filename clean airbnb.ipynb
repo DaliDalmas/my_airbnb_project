{
 "cells": [
  {
   "cell_type": "code",
   "execution_count": null,
   "id": "b0d62ae0-61e2-4bcf-918c-563b47fc175b",
   "metadata": {},
   "outputs": [],
   "source": [
    "import pandas as pd\n",
    "%run ./libs.ipynb"
   ]
  },
  {
   "cell_type": "code",
   "execution_count": null,
   "id": "50dfcd5f-1f0a-41a1-a5bb-5224d1cfca39",
   "metadata": {},
   "outputs": [],
   "source": [
    "data = pd.read_csv(\"./data/Airbnb_Open_Data.csv\", low_memory=False)"
   ]
  },
  {
   "cell_type": "code",
   "execution_count": null,
   "id": "cb9a619b-0319-469f-9804-0924eaf4353b",
   "metadata": {},
   "outputs": [],
   "source": [
    "print_details(data)"
   ]
  },
  {
   "cell_type": "code",
   "execution_count": null,
   "id": "9b990ee6-4e39-49c4-bb4b-f7b73f066f0d",
   "metadata": {},
   "outputs": [],
   "source": [
    "del data['license']"
   ]
  },
  {
   "cell_type": "markdown",
   "id": "475eb71d-998b-436e-acb5-a920614ffe58",
   "metadata": {},
   "source": [
    "## house_rules"
   ]
  },
  {
   "cell_type": "code",
   "execution_count": null,
   "id": "b8f13e24-7bd7-4675-9c94-5d61a9fc91a2",
   "metadata": {},
   "outputs": [],
   "source": [
    "data['missing_house_rules'] = data['house_rules'].isna()"
   ]
  },
  {
   "cell_type": "code",
   "execution_count": null,
   "id": "c70b5af4-87a6-41c3-937e-b9dcebcd2b1e",
   "metadata": {},
   "outputs": [],
   "source": [
    "data['missing_house_rules'].head()"
   ]
  },
  {
   "cell_type": "code",
   "execution_count": null,
   "id": "9f6ccbce-882c-4d7e-866f-749f937764fb",
   "metadata": {},
   "outputs": [],
   "source": [
    "data['clean_house_rules'] = preprocess(data['house_rules'], False)\n",
    "del data['house_rules']\n",
    "del data['clean_house_rules']"
   ]
  },
  {
   "cell_type": "code",
   "execution_count": null,
   "id": "9bb95d91-cf33-437b-bc7a-3d99189762b4",
   "metadata": {},
   "outputs": [],
   "source": [
    "print_details(data)"
   ]
  },
  {
   "cell_type": "markdown",
   "id": "e7d17944-98bd-42a4-a5f0-922988efb9a0",
   "metadata": {},
   "source": [
    "### last review"
   ]
  },
  {
   "cell_type": "code",
   "execution_count": null,
   "id": "b6aaf9a3-b668-4a08-8317-cfe3c9ff08e7",
   "metadata": {},
   "outputs": [],
   "source": [
    "data['clean_last_review'] = pd.to_datetime(data['last review'], format='%m/%d/%Y')"
   ]
  },
  {
   "cell_type": "code",
   "execution_count": null,
   "id": "40d41e78-141f-4684-9d54-8d22eb1e0814",
   "metadata": {},
   "outputs": [],
   "source": [
    "data['clean_last_review'].head()"
   ]
  },
  {
   "cell_type": "code",
   "execution_count": null,
   "id": "d3c2b2ff-1dcf-41dd-ad78-68dd772d96ac",
   "metadata": {},
   "outputs": [],
   "source": [
    "del data['last review']\n",
    "data.sort_values(by='clean_last_review', ascending=False, inplace=True)"
   ]
  },
  {
   "cell_type": "code",
   "execution_count": null,
   "id": "756af616-72fe-4a0a-ad04-10b6b1625c8c",
   "metadata": {},
   "outputs": [],
   "source": [
    "data = data[data['clean_last_review']<'2022-09-13']\n",
    "data = data[data['clean_last_review']>'2014-12-31']"
   ]
  },
  {
   "cell_type": "code",
   "execution_count": null,
   "id": "7f210708-a1ec-4f75-b6bc-a4fe7198af3c",
   "metadata": {},
   "outputs": [],
   "source": [
    "df = data[['clean_last_review', 'id']].groupby('clean_last_review').count().reset_index()"
   ]
  },
  {
   "cell_type": "code",
   "execution_count": null,
   "id": "e45207e4-312f-4546-b8d1-903153c4ba53",
   "metadata": {},
   "outputs": [],
   "source": [
    "import seaborn as sns\n",
    "import matplotlib.pyplot as plt\n",
    "sns.set_theme(style = \"darkgrid\")\n",
    "sns.lineplot(x='clean_last_review', y='id', data=df)\n",
    "plt.show()"
   ]
  },
  {
   "cell_type": "code",
   "execution_count": null,
   "id": "78f9d9b7-ee24-4cff-af80-14ffbed12016",
   "metadata": {},
   "outputs": [],
   "source": [
    "print_details(data)"
   ]
  },
  {
   "cell_type": "markdown",
   "id": "387d956e-1973-4f41-a32f-b73714063016",
   "metadata": {},
   "source": [
    "### remove all other missing values"
   ]
  },
  {
   "cell_type": "code",
   "execution_count": null,
   "id": "5ddf52aa-618d-4d22-9ab0-c717161679c2",
   "metadata": {},
   "outputs": [],
   "source": [
    "data = data.dropna()"
   ]
  },
  {
   "cell_type": "code",
   "execution_count": null,
   "id": "8c876332-5521-4a52-a921-7272f1188686",
   "metadata": {},
   "outputs": [],
   "source": [
    "data.shape"
   ]
  },
  {
   "cell_type": "markdown",
   "id": "2a46aa35-114b-43ff-8bf4-451d51e545e5",
   "metadata": {},
   "source": [
    "### working with duplicates"
   ]
  },
  {
   "cell_type": "code",
   "execution_count": null,
   "id": "df724c4c-9476-481a-98b8-cbc67ec7fde3",
   "metadata": {},
   "outputs": [],
   "source": [
    "data.duplicated().sum()"
   ]
  },
  {
   "cell_type": "code",
   "execution_count": null,
   "id": "3a314abf-e35b-4206-b4a7-03cbe6c43208",
   "metadata": {},
   "outputs": [],
   "source": [
    "data.drop_duplicates(inplace = True, keep = 'first')"
   ]
  },
  {
   "cell_type": "code",
   "execution_count": null,
   "id": "771b0482-2f02-4fcc-80d9-ae10be19c5bd",
   "metadata": {},
   "outputs": [],
   "source": [
    "print_details(data)"
   ]
  },
  {
   "cell_type": "code",
   "execution_count": null,
   "id": "41cc060e-f336-42c1-86e0-76d0064ef519",
   "metadata": {},
   "outputs": [],
   "source": [
    "data['id'].duplicated().sum()"
   ]
  },
  {
   "cell_type": "markdown",
   "id": "f773b7c7-c986-46b1-b4f7-ad3399505836",
   "metadata": {},
   "source": [
    "\n",
    "## video 2"
   ]
  },
  {
   "cell_type": "code",
   "execution_count": null,
   "id": "4a89ad47-e803-4b4c-97f2-f23e66ba6c61",
   "metadata": {},
   "outputs": [],
   "source": [
    "from IPython.display import display\n",
    "pd.options.display.max_columns = None"
   ]
  },
  {
   "cell_type": "code",
   "execution_count": null,
   "id": "010ea29b-9596-4f41-8016-a8eacac9e209",
   "metadata": {},
   "outputs": [],
   "source": [
    "data[\"id\"].unique().shape"
   ]
  },
  {
   "cell_type": "code",
   "execution_count": null,
   "id": "bbe6432f-8ad0-4e74-949c-db47dbaf7207",
   "metadata": {},
   "outputs": [],
   "source": [
    "data.shape"
   ]
  },
  {
   "cell_type": "markdown",
   "id": "e0259fef-03ad-4077-8e44-61fb74458628",
   "metadata": {},
   "source": [
    "### NAME"
   ]
  },
  {
   "cell_type": "code",
   "execution_count": null,
   "id": "7dc3ab47-4981-4724-a94a-000dfca01701",
   "metadata": {},
   "outputs": [],
   "source": [
    "data['clean_accomodation_bio'] = preprocess(data['NAME'], False)\n",
    "del data['NAME']"
   ]
  },
  {
   "cell_type": "markdown",
   "id": "5160834a-44ab-4da2-b7e6-bbedea24fe21",
   "metadata": {},
   "source": [
    "### host id"
   ]
  },
  {
   "cell_type": "code",
   "execution_count": null,
   "id": "babfc637-3294-48ff-82e9-5ec93942160f",
   "metadata": {},
   "outputs": [],
   "source": [
    "data[\"host id\"].unique().shape\n",
    "del data['host id']"
   ]
  },
  {
   "cell_type": "markdown",
   "id": "893d059c-d01c-4ad4-8957-4e7c764f4b47",
   "metadata": {},
   "source": [
    "### host_identity_verified"
   ]
  },
  {
   "cell_type": "code",
   "execution_count": null,
   "id": "6c5fbe36-fac8-4f37-b61b-13b6e497a940",
   "metadata": {},
   "outputs": [],
   "source": [
    "data['host_identity_verified'] = data['host_identity_verified'].apply(host_identity_verified)"
   ]
  },
  {
   "cell_type": "code",
   "execution_count": null,
   "id": "0c56db36-14c0-460b-b675-27b1ecb2c562",
   "metadata": {},
   "outputs": [],
   "source": [
    "del data['host name']"
   ]
  },
  {
   "cell_type": "markdown",
   "id": "b94f75d8-56bc-435d-955c-de8b41bc1c5c",
   "metadata": {},
   "source": [
    "### neighbourhood"
   ]
  },
  {
   "cell_type": "code",
   "execution_count": null,
   "id": "d61db444-c6b0-4d5d-ac57-60778f2c8591",
   "metadata": {},
   "outputs": [],
   "source": [
    "data['neighbourhood group'].unique()"
   ]
  },
  {
   "cell_type": "code",
   "execution_count": null,
   "id": "f2730546-dd78-46a6-8ff1-39ee0d1d8250",
   "metadata": {},
   "outputs": [],
   "source": [
    "data.loc[(data['neighbourhood group']=='brookln'),'neighbourhood group'] = 'Brooklyn'"
   ]
  },
  {
   "cell_type": "code",
   "execution_count": null,
   "id": "1234f333-5a37-4ade-8871-fe5dc01a984a",
   "metadata": {},
   "outputs": [],
   "source": [
    "del data['neighbourhood']"
   ]
  },
  {
   "cell_type": "markdown",
   "id": "1860e20d-ca2c-4b87-8dde-eb1bde8fc575",
   "metadata": {},
   "source": [
    "### country"
   ]
  },
  {
   "cell_type": "code",
   "execution_count": null,
   "id": "ce6e577d-545d-4228-84e4-67f1330374cb",
   "metadata": {},
   "outputs": [],
   "source": [
    "del data['country']\n",
    "del data['country code']"
   ]
  },
  {
   "cell_type": "markdown",
   "id": "615bdf54-e297-4816-aef4-5f063ad2c620",
   "metadata": {},
   "source": [
    "### instant_bookable"
   ]
  },
  {
   "cell_type": "code",
   "execution_count": null,
   "id": "e6b770f7-dcd4-4331-8d02-dec5d2e0b381",
   "metadata": {},
   "outputs": [],
   "source": [
    "data['instant_bookable'] = data['instant_bookable'].astype(bool)"
   ]
  },
  {
   "cell_type": "code",
   "execution_count": null,
   "id": "834f1692-53cf-4d04-a539-d6ca8f44d8b8",
   "metadata": {},
   "outputs": [],
   "source": [
    "print_details(data)"
   ]
  },
  {
   "cell_type": "markdown",
   "id": "1bc6920d-f22c-4053-afd8-cd447b0c5108",
   "metadata": {},
   "source": [
    "### price and fees"
   ]
  },
  {
   "cell_type": "code",
   "execution_count": null,
   "id": "2697f3d2-21fe-4f7a-875a-f29451cc2280",
   "metadata": {},
   "outputs": [],
   "source": [
    "for col in ['price', 'service fee']:\n",
    "    data[col] = data[col].apply(lambda value: float(str(value).replace('$', '').replace(',', '')))"
   ]
  },
  {
   "cell_type": "code",
   "execution_count": null,
   "id": "4ba9ce4c-d9bb-4209-82e1-b456297fbf21",
   "metadata": {},
   "outputs": [],
   "source": [
    "data.head()"
   ]
  },
  {
   "cell_type": "markdown",
   "id": "49516063-358e-45be-b8b4-f4892d5016fc",
   "metadata": {},
   "source": [
    "### Construction year"
   ]
  },
  {
   "cell_type": "code",
   "execution_count": null,
   "id": "3cde4a93-60b3-4a3e-8781-c036cbed1fc7",
   "metadata": {},
   "outputs": [],
   "source": [
    "data['Construction year'] = data['Construction year'].apply(int)"
   ]
  },
  {
   "cell_type": "markdown",
   "id": "5214cf1c-160a-4495-97e7-87bebf76a84e",
   "metadata": {},
   "source": [
    "### cancellation_policy"
   ]
  },
  {
   "cell_type": "code",
   "execution_count": null,
   "id": "6e787e81-f08b-4b50-99d8-e0c8827a19a3",
   "metadata": {},
   "outputs": [],
   "source": [
    "data['cancellation_policy'].unique()"
   ]
  },
  {
   "cell_type": "markdown",
   "id": "06945c41-1869-4479-bca3-798d52127a64",
   "metadata": {},
   "source": [
    "### room type"
   ]
  },
  {
   "cell_type": "code",
   "execution_count": null,
   "id": "a3c3892d-c4ca-4c97-b222-4f8799df89fe",
   "metadata": {},
   "outputs": [],
   "source": [
    "data['room type'] = data['room type'].apply(lambda value: str(value).replace('/', ' '))"
   ]
  },
  {
   "cell_type": "code",
   "execution_count": null,
   "id": "0cd65980-5f9b-43ae-9b66-fd127d91c4b4",
   "metadata": {},
   "outputs": [],
   "source": [
    "data"
   ]
  },
  {
   "cell_type": "code",
   "execution_count": null,
   "id": "dce4ca5a-8a54-4e4c-a46c-ee84b6fe0227",
   "metadata": {},
   "outputs": [],
   "source": [
    "num_cols = list(data.select_dtypes(['int64', 'float64']).columns)\n",
    "data = data[(data['minimum nights']>0)&(data['minimum nights']<365)]\n",
    "for col in num_cols:\n",
    "    sns.histplot(data=data, x=col)\n",
    "    plt.show()"
   ]
  },
  {
   "cell_type": "code",
   "execution_count": null,
   "id": "58288ec4-5df3-40f8-8b73-4a48abdcf717",
   "metadata": {},
   "outputs": [],
   "source": [
    "data['minimum nights'].max()"
   ]
  },
  {
   "cell_type": "code",
   "execution_count": null,
   "id": "30bbd1da-ed7f-4efe-a5c7-8238a8c3608f",
   "metadata": {},
   "outputs": [],
   "source": [
    "data['minimum nights'].min()"
   ]
  },
  {
   "cell_type": "code",
   "execution_count": null,
   "id": "a35e7878-84d7-48a5-bb82-e73105187181",
   "metadata": {},
   "outputs": [],
   "source": [
    "data['minimum nights'].mode()"
   ]
  },
  {
   "cell_type": "code",
   "execution_count": null,
   "id": "3d923eb4-dc6d-4ae6-893d-cbddfb413a81",
   "metadata": {},
   "outputs": [],
   "source": [
    "data"
   ]
  },
  {
   "cell_type": "code",
   "execution_count": null,
   "id": "05f2f5ce-587a-4d5a-87fc-def5bc519ffe",
   "metadata": {},
   "outputs": [],
   "source": [
    "column_names = list(data.columns)\n",
    "new_column_names = parse_column_names(column_names)"
   ]
  },
  {
   "cell_type": "code",
   "execution_count": null,
   "id": "321fc754-e784-49e8-8e45-deff4dd044f0",
   "metadata": {},
   "outputs": [],
   "source": [
    "data.rename(columns=new_column_names, inplace=True)"
   ]
  },
  {
   "cell_type": "code",
   "execution_count": null,
   "id": "6330b8b9-f159-4348-8565-7f8c54888274",
   "metadata": {},
   "outputs": [],
   "source": [
    "data.to_csv('./data/clean_airbnb.csv', index=False)"
   ]
  },
  {
   "cell_type": "code",
   "execution_count": null,
   "id": "580046e0-5f9d-46d3-999a-ca46b99d4dd4",
   "metadata": {},
   "outputs": [],
   "source": [
    "data.shape"
   ]
  },
  {
   "cell_type": "code",
   "execution_count": null,
   "id": "82d5aa43-b33a-4fde-9afe-81dceb97fa82",
   "metadata": {},
   "outputs": [],
   "source": []
  }
 ],
 "metadata": {
  "kernelspec": {
   "display_name": "Python 3 (ipykernel)",
   "language": "python",
   "name": "python3"
  },
  "language_info": {
   "codemirror_mode": {
    "name": "ipython",
    "version": 3
   },
   "file_extension": ".py",
   "mimetype": "text/x-python",
   "name": "python",
   "nbconvert_exporter": "python",
   "pygments_lexer": "ipython3",
   "version": "3.9.10"
  }
 },
 "nbformat": 4,
 "nbformat_minor": 5
}
